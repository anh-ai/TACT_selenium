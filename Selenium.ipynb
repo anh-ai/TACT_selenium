{
  "cells": [
    {
      "cell_type": "code",
      "execution_count": 10,
      "metadata": {},
      "outputs": [
        {
          "name": "stderr",
          "output_type": "stream",
          "text": [
            "<ipython-input-10-3d6e27e45957>:12: DeprecationWarning: executable_path has been deprecated, please pass in a Service object\n",
            "  driver = webdriver.Chrome(chrome_options=chrome_options,executable_path=r\"chromedriver.exe\")\n",
            "<ipython-input-10-3d6e27e45957>:12: DeprecationWarning: use options instead of chrome_options\n",
            "  driver = webdriver.Chrome(chrome_options=chrome_options,executable_path=r\"chromedriver.exe\")\n"
          ]
        }
      ],
      "source": [
        "import os \n",
        "import selenium as s\n",
        "from selenium import webdriver\n",
        "from selenium.webdriver.chrome.options import Options\n",
        "chrome_options = Options()\n",
        "chrome_options.add_argument(\"--incognito\")\n",
        "chrome_options.add_argument(\"--window-size=1920x1080\")\n",
        " \n",
        "chromeOptions = webdriver.ChromeOptions() \n",
        "os.makedirs('user-data-dir',exist_ok=True)\n",
        "chromeOptions.add_argument(\"--user-data-dir=user-data-dir\") #Path to your chrome profile\n",
        "driver = webdriver.Chrome(chrome_options=chrome_options,executable_path=r\"chromedriver.exe\")\n",
        "from selenium.webdriver.common.by import By"
      ]
    },
    {
      "cell_type": "code",
      "execution_count": 11,
      "metadata": {},
      "outputs": [],
      "source": [
        "import time\n",
        "# url = \"http://10.220.81.71/vn_allparts_f12/login.aspx?ReturnUrl=%2fvn_allparts_f12%2fK1%2fK1_15.ASPX\"\n",
        "url = \"http://10.220.81.71/vn_allparts_f12/K1/K1_15.ASPX\"\n",
        "url = \"http://10.220.81.71/vn_allparts_f12/K2/K2_02.aspx\"\n",
        "driver.get(url)\n",
        "time.sleep(0.3)\n"
      ]
    },
    {
      "cell_type": "code",
      "execution_count": 12,
      "metadata": {},
      "outputs": [],
      "source": [
        "try:\n",
        "    driver.find_element(by=By.NAME, value=\"txtUser\").send_keys(\"Kitting\")\n",
        "    driver.find_element(by=By.NAME, value=\"txtPWD\").send_keys(\"Kitting\")\n",
        "    driver.find_element(by=By.NAME, value=\"btnSubmit\").click()\n",
        "    # driver.find_element_by_name(\"txtUser\").send_keys(\"Kitting\")\n",
        "    # driver.find_element_by_name(\"txtPWD\").send_keys(\"Kitting\")\n",
        "    # driver.find_element_by_name(\"btnSubmit\").click()\n",
        "except:\n",
        "    pass\n",
        "##Find elements with Selenium\n",
        "#by_id\n",
        "# txtUser   = driver.find_elements_by_id(\"txtUser\")\n",
        " \n",
        "#by css\n",
        "# els = driver.find_elements_by_css_selector(element_css_selector)\n",
        "#by xpath\n",
        "# els = driver.find_elements_by_xpath(element_x_path)\n"
      ]
    },
    {
      "cell_type": "code",
      "execution_count": null,
      "metadata": {},
      "outputs": [],
      "source": []
    },
    {
      "cell_type": "markdown",
      "metadata": {},
      "source": [
        "# Get F12 kitting value"
      ]
    },
    {
      "cell_type": "code",
      "execution_count": 13,
      "metadata": {},
      "outputs": [],
      "source": [
        "from selenium.webdriver.support.select import Select\n",
        "from selenium.webdriver.common.by import By\n",
        "import pandas as pd\n",
        "url = \"http://10.220.81.71/vn_allparts_f12/K2/K2_02.aspx\"\n",
        "driver.get(url)\n",
        "time.sleep(0.4)\n",
        "sel = Select (driver.find_element(by=By.NAME, value=\"ConLayer1$ddlKpLocation\"))\n",
        "sel.select_by_visible_text ('F12-KITTING')\n",
        "driver.find_element(by=By.NAME, value=\"ConLayer1$IBtnSubmit\").click()\n",
        "time.sleep(0.4)"
      ]
    },
    {
      "cell_type": "code",
      "execution_count": 14,
      "metadata": {},
      "outputs": [],
      "source": [
        "import glob\n",
        "import os.path\n",
        "def getNewestFile():\n",
        "    folder_path = r'C:\\Users\\v1013922.VNGZ.000\\Downloads'\n",
        "    file_type = r'\\*xls'\n",
        "    files = glob.glob(folder_path + file_type)\n",
        "    max_file = max(files, key=os.path.getctime)\n",
        "\n",
        "    print(max_file)\n",
        "    return max_file\n",
        "# pExcel=max_file"
      ]
    },
    {
      "cell_type": "code",
      "execution_count": 15,
      "metadata": {},
      "outputs": [
        {
          "name": "stderr",
          "output_type": "stream",
          "text": [
            "<ipython-input-15-8e72e80582cd>:1: DeprecationWarning: find_element_by_* commands are deprecated. Please use find_element() instead\n",
            "  driver.find_element_by_id(\"ConTitle1_lbtnExcel\").click()\n"
          ]
        },
        {
          "name": "stdout",
          "output_type": "stream",
          "text": [
            "C:\\Users\\v1013922.VNGZ.000\\Downloads\\h2apnpkoh4jkqfvv5rp0cxbo_637825363529615869.xls\n",
            "     Material Stocking Detail Unnamed: 1     Unnamed: 2        Unnamed: 3  \\\n",
            "0                         NaN        NaN            NaN               NaN   \n",
            "1                          NO      PLANT   CUSTOMER P/N          EMPLOYER   \n",
            "2                           1       AAEY  001.01199.005  BUI THI KIM DUNG   \n",
            "3                           2       AAEY  001.01421.005  BUI THI KIM DUNG   \n",
            "4                           3       AAEY  001.01589.005  BUI THI KIM DUNG   \n",
            "...                       ...        ...            ...               ...   \n",
            "4933                     4932       AAEY   XTA000008001     VI VĂN NGUYÊN   \n",
            "4934                     4933       AAEY   XTA028328003     VI VĂN NGUYÊN   \n",
            "4935                     4934       AAEY   XTA028328004     VI VĂN NGUYÊN   \n",
            "4936                     4935       AAEY   XTA028328005     VI VĂN NGUYÊN   \n",
            "4937                     4936       AAEY   XTA226670008     VI VĂN NGUYÊN   \n",
            "\n",
            "         Unnamed: 4    Unnamed: 5   Unnamed: 6 Unnamed: 7   Unnamed: 8  \\\n",
            "0               NaN           NaN          NaN        NaN          NaN   \n",
            "1          LOCATION  KITTING AREA  KITTING QTY     WO QTY  RETURN AREA   \n",
            "2            LIEU A           F12            6          0            0   \n",
            "3            LIEU A           F12            0          0            0   \n",
            "4            Lieu A           F12            0          0            0   \n",
            "...             ...           ...          ...        ...          ...   \n",
            "4933   F12-H1-1-3-9           F12         3000          0            0   \n",
            "4934  F12-H1-1-3-10           F12         3573          0            0   \n",
            "4935   F12-H1-1-4-1           F12         3362          0            0   \n",
            "4936   F12-H1-1-4-2           F12         6405          0            0   \n",
            "4937   F12-H1-1-4-3           F12         3490          0            0   \n",
            "\n",
            "     Unnamed: 9   Unnamed: 10    Unnamed: 11  \n",
            "0           NaN           NaN            NaN  \n",
            "1      LINE QTY    UNIT PRICE  LOCATION_AREA  \n",
            "2             2          A類物料    F12-KITTING  \n",
            "3            48          A類物料    F12-KITTING  \n",
            "4            43          A類物料    F12-KITTING  \n",
            "...         ...           ...            ...  \n",
            "4933       3000  BC類物料小于20NTD    F12-KITTING  \n",
            "4934       1765  BC類物料小于20NTD    F12-KITTING  \n",
            "4935        630  BC類物料小于20NTD    F12-KITTING  \n",
            "4936       6700  BC類物料小于20NTD    F12-KITTING  \n",
            "4937       1930  BC類物料小于20NTD    F12-KITTING  \n",
            "\n",
            "[4938 rows x 12 columns]\n"
          ]
        }
      ],
      "source": [
        "driver.find_element_by_id(\"ConTitle1_lbtnExcel\").click()\n",
        "time.sleep(1)\n",
        "pExcel=getNewestFile()\n",
        "# pExcel =r\"C:\\Users\\v1013922.VNGZ.000\\Downloads\\gsts4agow4ybtcnqbfsbokwo_637823646905044113.xls\"\n",
        "# df = pd.read_excel (r\"C:\\Users\\v1013922.VNGZ.000\\Downloads\\gsts4agow4ybtcnqbfsbokwo_637823646905044113.xls\")\n",
        "df = pd.read_excel (pExcel)\n",
        "print (df)"
      ]
    },
    {
      "cell_type": "code",
      "execution_count": 16,
      "metadata": {},
      "outputs": [
        {
          "name": "stdout",
          "output_type": "stream",
          "text": [
            "C:\\Users\\v1013922.VNGZ.000\\Downloads\\h2apnpkoh4jkqfvv5rp0cxbo_637825363529615869.xls\n"
          ]
        }
      ],
      "source": [
        "pExcel=getNewestFile()"
      ]
    },
    {
      "cell_type": "code",
      "execution_count": null,
      "metadata": {},
      "outputs": [],
      "source": []
    },
    {
      "cell_type": "code",
      "execution_count": null,
      "metadata": {},
      "outputs": [],
      "source": [
        "driver.find_element_by_name(\"ConLayer1$txtStartDate\").send_keys(\"029.00907.005\")\n",
        "driver.find_element_by_name(\"ConLayer1$IBtnSubmit\").click()\n",
        "time.sleep(0.4)"
      ]
    },
    {
      "cell_type": "code",
      "execution_count": null,
      "metadata": {},
      "outputs": [
        {
          "name": "stderr",
          "output_type": "stream",
          "text": [
            "<ipython-input-90-c06cda66aab2>:1: DeprecationWarning: find_element_by_* commands are deprecated. Please use find_element() instead\n",
            "  driver.find_element_by_id(\"ConTitle1_lbtnExcel\").click()\n"
          ]
        }
      ],
      "source": [
        "driver.find_element_by_id(\"ConTitle1_lbtnExcel\").click()\n",
        "time.sleep(0.4)"
      ]
    },
    {
      "cell_type": "code",
      "execution_count": null,
      "metadata": {},
      "outputs": [],
      "source": []
    },
    {
      "cell_type": "code",
      "execution_count": 18,
      "metadata": {},
      "outputs": [
        {
          "name": "stdout",
          "output_type": "stream",
          "text": [
            "     Material Stocking Detail Unnamed: 1     Unnamed: 2        Unnamed: 3  \\\n",
            "0                         NaN        NaN            NaN               NaN   \n",
            "1                          NO      PLANT   CUSTOMER P/N          EMPLOYER   \n",
            "2                           1       AAEY  001.01199.005  BUI THI KIM DUNG   \n",
            "3                           2       AAEY  001.01421.005  BUI THI KIM DUNG   \n",
            "4                           3       AAEY  001.01589.005  BUI THI KIM DUNG   \n",
            "...                       ...        ...            ...               ...   \n",
            "4933                     4932       AAEY   XTA000008001     VI VĂN NGUYÊN   \n",
            "4934                     4933       AAEY   XTA028328003     VI VĂN NGUYÊN   \n",
            "4935                     4934       AAEY   XTA028328004     VI VĂN NGUYÊN   \n",
            "4936                     4935       AAEY   XTA028328005     VI VĂN NGUYÊN   \n",
            "4937                     4936       AAEY   XTA226670008     VI VĂN NGUYÊN   \n",
            "\n",
            "         Unnamed: 4    Unnamed: 5   Unnamed: 6 Unnamed: 7   Unnamed: 8  \\\n",
            "0               NaN           NaN          NaN        NaN          NaN   \n",
            "1          LOCATION  KITTING AREA  KITTING QTY     WO QTY  RETURN AREA   \n",
            "2            LIEU A           F12            6          0            0   \n",
            "3            LIEU A           F12            0          0            0   \n",
            "4            Lieu A           F12            0          0            0   \n",
            "...             ...           ...          ...        ...          ...   \n",
            "4933   F12-H1-1-3-9           F12         3000          0            0   \n",
            "4934  F12-H1-1-3-10           F12         3573          0            0   \n",
            "4935   F12-H1-1-4-1           F12         3362          0            0   \n",
            "4936   F12-H1-1-4-2           F12         6405          0            0   \n",
            "4937   F12-H1-1-4-3           F12         3490          0            0   \n",
            "\n",
            "     Unnamed: 9   Unnamed: 10    Unnamed: 11  \n",
            "0           NaN           NaN            NaN  \n",
            "1      LINE QTY    UNIT PRICE  LOCATION_AREA  \n",
            "2             2          A類物料    F12-KITTING  \n",
            "3            48          A類物料    F12-KITTING  \n",
            "4            43          A類物料    F12-KITTING  \n",
            "...         ...           ...            ...  \n",
            "4933       3000  BC類物料小于20NTD    F12-KITTING  \n",
            "4934       1765  BC類物料小于20NTD    F12-KITTING  \n",
            "4935        630  BC類物料小于20NTD    F12-KITTING  \n",
            "4936       6700  BC類物料小于20NTD    F12-KITTING  \n",
            "4937       1930  BC類物料小于20NTD    F12-KITTING  \n",
            "\n",
            "[4938 rows x 12 columns]\n"
          ]
        }
      ],
      "source": [
        "import pandas as pd\n",
        "# pExcel =r\"C:\\Users\\v1013922.VNGZ.000\\Downloads\\gsts4agow4ybtcnqbfsbokwo_637823646905044113.xls\"\n",
        "# df = pd.read_excel (r\"C:\\Users\\v1013922.VNGZ.000\\Downloads\\gsts4agow4ybtcnqbfsbokwo_637823646905044113.xls\")\n",
        "df = pd.read_excel (pExcel)\n",
        "print (df)"
      ]
    },
    {
      "cell_type": "code",
      "execution_count": null,
      "metadata": {},
      "outputs": [
        {
          "data": {
            "text/plain": [
              "RangeIndex(start=0, stop=3, step=1)"
            ]
          },
          "execution_count": 93,
          "metadata": {},
          "output_type": "execute_result"
        }
      ],
      "source": [
        "df.index"
      ]
    },
    {
      "cell_type": "code",
      "execution_count": null,
      "metadata": {},
      "outputs": [
        {
          "data": {
            "text/plain": [
              "Index(['Kitting Storage', 'Unnamed: 1', 'Unnamed: 2', 'Unnamed: 3',\n",
              "       'Unnamed: 4', 'Unnamed: 5', 'Unnamed: 6', 'Unnamed: 7'],\n",
              "      dtype='object')"
            ]
          },
          "execution_count": 94,
          "metadata": {},
          "output_type": "execute_result"
        }
      ],
      "source": [
        " df.columns"
      ]
    },
    {
      "cell_type": "code",
      "execution_count": null,
      "metadata": {},
      "outputs": [
        {
          "data": {
            "text/plain": [
              "(3, 8)"
            ]
          },
          "execution_count": 95,
          "metadata": {},
          "output_type": "execute_result"
        }
      ],
      "source": [
        "df.shape"
      ]
    },
    {
      "cell_type": "code",
      "execution_count": null,
      "metadata": {},
      "outputs": [
        {
          "data": {
            "text/plain": [
              "Kitting Storage                1\n",
              "Unnamed: 1         029.00907.005\n",
              "Unnamed: 2                 13170\n",
              "Unnamed: 3                     0\n",
              "Unnamed: 4                     0\n",
              "Unnamed: 5                     0\n",
              "Unnamed: 6                      \n",
              "Unnamed: 7                -13170\n",
              "Name: 2, dtype: object"
            ]
          },
          "execution_count": 96,
          "metadata": {},
          "output_type": "execute_result"
        }
      ],
      "source": [
        "df.loc[2] # Dòng 2"
      ]
    },
    {
      "cell_type": "code",
      "execution_count": null,
      "metadata": {},
      "outputs": [
        {
          "data": {
            "text/html": [
              "<div>\n",
              "<style scoped>\n",
              "    .dataframe tbody tr th:only-of-type {\n",
              "        vertical-align: middle;\n",
              "    }\n",
              "\n",
              "    .dataframe tbody tr th {\n",
              "        vertical-align: top;\n",
              "    }\n",
              "\n",
              "    .dataframe thead th {\n",
              "        text-align: right;\n",
              "    }\n",
              "</style>\n",
              "<table border=\"1\" class=\"dataframe\">\n",
              "  <thead>\n",
              "    <tr style=\"text-align: right;\">\n",
              "      <th></th>\n",
              "      <th>Kitting Storage</th>\n",
              "      <th>Unnamed: 1</th>\n",
              "      <th>Unnamed: 2</th>\n",
              "      <th>Unnamed: 3</th>\n",
              "      <th>Unnamed: 4</th>\n",
              "      <th>Unnamed: 5</th>\n",
              "      <th>Unnamed: 6</th>\n",
              "      <th>Unnamed: 7</th>\n",
              "    </tr>\n",
              "  </thead>\n",
              "  <tbody>\n",
              "    <tr>\n",
              "      <th>0</th>\n",
              "      <td>NaN</td>\n",
              "      <td>NaN</td>\n",
              "      <td>NaN</td>\n",
              "      <td>NaN</td>\n",
              "      <td>NaN</td>\n",
              "      <td>NaN</td>\n",
              "      <td>NaN</td>\n",
              "      <td>NaN</td>\n",
              "    </tr>\n",
              "    <tr>\n",
              "      <th>1</th>\n",
              "      <td>NO</td>\n",
              "      <td>CUST_KP_NO</td>\n",
              "      <td>KITTING_QTY</td>\n",
              "      <td>WHS_QTY</td>\n",
              "      <td>RETURN_QTY</td>\n",
              "      <td>SAFE_STORAGE</td>\n",
              "      <td>LOCATION</td>\n",
              "      <td>NEED REQUIRE QTY</td>\n",
              "    </tr>\n",
              "    <tr>\n",
              "      <th>2</th>\n",
              "      <td>1</td>\n",
              "      <td>029.00907.005</td>\n",
              "      <td>13170</td>\n",
              "      <td>0</td>\n",
              "      <td>0</td>\n",
              "      <td>0</td>\n",
              "      <td></td>\n",
              "      <td>-13170</td>\n",
              "    </tr>\n",
              "  </tbody>\n",
              "</table>\n",
              "</div>"
            ],
            "text/plain": [
              "  Kitting Storage     Unnamed: 1   Unnamed: 2 Unnamed: 3  Unnamed: 4  \\\n",
              "0             NaN            NaN          NaN        NaN         NaN   \n",
              "1              NO     CUST_KP_NO  KITTING_QTY    WHS_QTY  RETURN_QTY   \n",
              "2               1  029.00907.005        13170          0           0   \n",
              "\n",
              "     Unnamed: 5 Unnamed: 6        Unnamed: 7  \n",
              "0           NaN        NaN               NaN  \n",
              "1  SAFE_STORAGE   LOCATION  NEED REQUIRE QTY  \n",
              "2             0                       -13170  "
            ]
          },
          "execution_count": 97,
          "metadata": {},
          "output_type": "execute_result"
        }
      ],
      "source": [
        "df.loc[0:2]\n",
        "# Lấy theo mảng"
      ]
    },
    {
      "cell_type": "code",
      "execution_count": null,
      "metadata": {},
      "outputs": [
        {
          "data": {
            "text/plain": [
              "('029.00907.005', -13170)"
            ]
          },
          "execution_count": 98,
          "metadata": {},
          "output_type": "execute_result"
        }
      ],
      "source": [
        " df['Unnamed: 1'][2], df['Unnamed: 7'][2]\n",
        "#  Cột 'Unnamed: 7' dòng 2"
      ]
    },
    {
      "cell_type": "code",
      "execution_count": null,
      "metadata": {},
      "outputs": [
        {
          "data": {
            "text/plain": [
              "-13170"
            ]
          },
          "execution_count": 99,
          "metadata": {},
          "output_type": "execute_result"
        }
      ],
      "source": [
        "df.loc[2, 'Unnamed: 7']\n",
        "# Dòng 2, cột  'Unnamed: 7'"
      ]
    },
    {
      "cell_type": "code",
      "execution_count": 8,
      "metadata": {},
      "outputs": [
        {
          "data": {
            "text/plain": [
              "<bound method WebDriver.close of <selenium.webdriver.chrome.webdriver.WebDriver (session=\"1f0c406a91988c4735c47cc697c28f25\")>>"
            ]
          },
          "execution_count": 8,
          "metadata": {},
          "output_type": "execute_result"
        }
      ],
      "source": [
        "driver.close"
      ]
    },
    {
      "cell_type": "code",
      "execution_count": null,
      "metadata": {},
      "outputs": [],
      "source": []
    }
  ],
  "metadata": {
    "accelerator": "GPU",
    "colab": {
      "collapsed_sections": [],
      "include_colab_link": true,
      "name": "YOLOv5 Tutorial",
      "provenance": []
    },
    "kernelspec": {
      "display_name": "Python 3",
      "name": "python3"
    },
    "language_info": {
      "codemirror_mode": {
        "name": "ipython",
        "version": 3
      },
      "file_extension": ".py",
      "mimetype": "text/x-python",
      "name": "python",
      "nbconvert_exporter": "python",
      "pygments_lexer": "ipython3",
      "version": "3.8.8"
    },
    "widgets": {
      "application/vnd.jupyter.widget-state+json": {
        "0ce7164fc0c74bb9a2b5c7037375a727": {
          "model_module": "@jupyter-widgets/controls",
          "model_module_version": "1.5.0",
          "model_name": "ProgressStyleModel",
          "state": {
            "_model_module": "@jupyter-widgets/controls",
            "_model_module_version": "1.5.0",
            "_model_name": "ProgressStyleModel",
            "_view_count": null,
            "_view_module": "@jupyter-widgets/base",
            "_view_module_version": "1.2.0",
            "_view_name": "StyleView",
            "bar_color": null,
            "description_width": ""
          }
        },
        "25621cff5d16448cb7260e839fd0f543": {
          "model_module": "@jupyter-widgets/base",
          "model_module_version": "1.2.0",
          "model_name": "LayoutModel",
          "state": {
            "_model_module": "@jupyter-widgets/base",
            "_model_module_version": "1.2.0",
            "_model_name": "LayoutModel",
            "_view_count": null,
            "_view_module": "@jupyter-widgets/base",
            "_view_module_version": "1.2.0",
            "_view_name": "LayoutView",
            "align_content": null,
            "align_items": null,
            "align_self": null,
            "border": null,
            "bottom": null,
            "display": null,
            "flex": null,
            "flex_flow": null,
            "grid_area": null,
            "grid_auto_columns": null,
            "grid_auto_flow": null,
            "grid_auto_rows": null,
            "grid_column": null,
            "grid_gap": null,
            "grid_row": null,
            "grid_template_areas": null,
            "grid_template_columns": null,
            "grid_template_rows": null,
            "height": null,
            "justify_content": null,
            "justify_items": null,
            "left": null,
            "margin": null,
            "max_height": null,
            "max_width": null,
            "min_height": null,
            "min_width": null,
            "object_fit": null,
            "object_position": null,
            "order": null,
            "overflow": null,
            "overflow_x": null,
            "overflow_y": null,
            "padding": null,
            "right": null,
            "top": null,
            "visibility": null,
            "width": null
          }
        },
        "384a001876054c93b0af45cd1e960bfe": {
          "model_module": "@jupyter-widgets/controls",
          "model_module_version": "1.5.0",
          "model_name": "HTMLModel",
          "state": {
            "_dom_classes": [],
            "_model_module": "@jupyter-widgets/controls",
            "_model_module_version": "1.5.0",
            "_model_name": "HTMLModel",
            "_view_count": null,
            "_view_module": "@jupyter-widgets/controls",
            "_view_module_version": "1.5.0",
            "_view_name": "HTMLView",
            "description": "",
            "description_tooltip": null,
            "layout": "IPY_MODEL_25621cff5d16448cb7260e839fd0f543",
            "placeholder": "​",
            "style": "IPY_MODEL_9f09facb2a6c4a7096810d327c8b551c",
            "value": "100%"
          }
        },
        "473371611126476c88d5d42ec7031ed6": {
          "model_module": "@jupyter-widgets/controls",
          "model_module_version": "1.5.0",
          "model_name": "DescriptionStyleModel",
          "state": {
            "_model_module": "@jupyter-widgets/controls",
            "_model_module_version": "1.5.0",
            "_model_name": "DescriptionStyleModel",
            "_view_count": null,
            "_view_module": "@jupyter-widgets/base",
            "_view_module_version": "1.2.0",
            "_view_name": "StyleView",
            "description_width": ""
          }
        },
        "5296d28be75740b2892ae421bbec3657": {
          "model_module": "@jupyter-widgets/controls",
          "model_module_version": "1.5.0",
          "model_name": "HTMLModel",
          "state": {
            "_dom_classes": [],
            "_model_module": "@jupyter-widgets/controls",
            "_model_module_version": "1.5.0",
            "_model_name": "HTMLModel",
            "_view_count": null,
            "_view_module": "@jupyter-widgets/controls",
            "_view_module_version": "1.5.0",
            "_view_name": "HTMLView",
            "description": "",
            "description_tooltip": null,
            "layout": "IPY_MODEL_65efdfd0d26c46e79c8c5ff3b77126cc",
            "placeholder": "​",
            "style": "IPY_MODEL_473371611126476c88d5d42ec7031ed6",
            "value": " 780M/780M [00:11&lt;00:00, 91.9MB/s]"
          }
        },
        "65efdfd0d26c46e79c8c5ff3b77126cc": {
          "model_module": "@jupyter-widgets/base",
          "model_module_version": "1.2.0",
          "model_name": "LayoutModel",
          "state": {
            "_model_module": "@jupyter-widgets/base",
            "_model_module_version": "1.2.0",
            "_model_name": "LayoutModel",
            "_view_count": null,
            "_view_module": "@jupyter-widgets/base",
            "_view_module_version": "1.2.0",
            "_view_name": "LayoutView",
            "align_content": null,
            "align_items": null,
            "align_self": null,
            "border": null,
            "bottom": null,
            "display": null,
            "flex": null,
            "flex_flow": null,
            "grid_area": null,
            "grid_auto_columns": null,
            "grid_auto_flow": null,
            "grid_auto_rows": null,
            "grid_column": null,
            "grid_gap": null,
            "grid_row": null,
            "grid_template_areas": null,
            "grid_template_columns": null,
            "grid_template_rows": null,
            "height": null,
            "justify_content": null,
            "justify_items": null,
            "left": null,
            "margin": null,
            "max_height": null,
            "max_width": null,
            "min_height": null,
            "min_width": null,
            "object_fit": null,
            "object_position": null,
            "order": null,
            "overflow": null,
            "overflow_x": null,
            "overflow_y": null,
            "padding": null,
            "right": null,
            "top": null,
            "visibility": null,
            "width": null
          }
        },
        "769ecde6f2e64bacb596ce972f8d3d2d": {
          "model_module": "@jupyter-widgets/base",
          "model_module_version": "1.2.0",
          "model_name": "LayoutModel",
          "state": {
            "_model_module": "@jupyter-widgets/base",
            "_model_module_version": "1.2.0",
            "_model_name": "LayoutModel",
            "_view_count": null,
            "_view_module": "@jupyter-widgets/base",
            "_view_module_version": "1.2.0",
            "_view_name": "LayoutView",
            "align_content": null,
            "align_items": null,
            "align_self": null,
            "border": null,
            "bottom": null,
            "display": null,
            "flex": null,
            "flex_flow": null,
            "grid_area": null,
            "grid_auto_columns": null,
            "grid_auto_flow": null,
            "grid_auto_rows": null,
            "grid_column": null,
            "grid_gap": null,
            "grid_row": null,
            "grid_template_areas": null,
            "grid_template_columns": null,
            "grid_template_rows": null,
            "height": null,
            "justify_content": null,
            "justify_items": null,
            "left": null,
            "margin": null,
            "max_height": null,
            "max_width": null,
            "min_height": null,
            "min_width": null,
            "object_fit": null,
            "object_position": null,
            "order": null,
            "overflow": null,
            "overflow_x": null,
            "overflow_y": null,
            "padding": null,
            "right": null,
            "top": null,
            "visibility": null,
            "width": null
          }
        },
        "9f09facb2a6c4a7096810d327c8b551c": {
          "model_module": "@jupyter-widgets/controls",
          "model_module_version": "1.5.0",
          "model_name": "DescriptionStyleModel",
          "state": {
            "_model_module": "@jupyter-widgets/controls",
            "_model_module_version": "1.5.0",
            "_model_name": "DescriptionStyleModel",
            "_view_count": null,
            "_view_module": "@jupyter-widgets/base",
            "_view_module_version": "1.2.0",
            "_view_name": "StyleView",
            "description_width": ""
          }
        },
        "c4c4593c10904cb5b8a5724d60c7e181": {
          "model_module": "@jupyter-widgets/base",
          "model_module_version": "1.2.0",
          "model_name": "LayoutModel",
          "state": {
            "_model_module": "@jupyter-widgets/base",
            "_model_module_version": "1.2.0",
            "_model_name": "LayoutModel",
            "_view_count": null,
            "_view_module": "@jupyter-widgets/base",
            "_view_module_version": "1.2.0",
            "_view_name": "LayoutView",
            "align_content": null,
            "align_items": null,
            "align_self": null,
            "border": null,
            "bottom": null,
            "display": null,
            "flex": null,
            "flex_flow": null,
            "grid_area": null,
            "grid_auto_columns": null,
            "grid_auto_flow": null,
            "grid_auto_rows": null,
            "grid_column": null,
            "grid_gap": null,
            "grid_row": null,
            "grid_template_areas": null,
            "grid_template_columns": null,
            "grid_template_rows": null,
            "height": null,
            "justify_content": null,
            "justify_items": null,
            "left": null,
            "margin": null,
            "max_height": null,
            "max_width": null,
            "min_height": null,
            "min_width": null,
            "object_fit": null,
            "object_position": null,
            "order": null,
            "overflow": null,
            "overflow_x": null,
            "overflow_y": null,
            "padding": null,
            "right": null,
            "top": null,
            "visibility": null,
            "width": null
          }
        },
        "dded0aeae74440f7ba2ffa0beb8dd612": {
          "model_module": "@jupyter-widgets/controls",
          "model_module_version": "1.5.0",
          "model_name": "FloatProgressModel",
          "state": {
            "_dom_classes": [],
            "_model_module": "@jupyter-widgets/controls",
            "_model_module_version": "1.5.0",
            "_model_name": "FloatProgressModel",
            "_view_count": null,
            "_view_module": "@jupyter-widgets/controls",
            "_view_module_version": "1.5.0",
            "_view_name": "ProgressView",
            "bar_style": "success",
            "description": "",
            "description_tooltip": null,
            "layout": "IPY_MODEL_c4c4593c10904cb5b8a5724d60c7e181",
            "max": 818322941,
            "min": 0,
            "orientation": "horizontal",
            "style": "IPY_MODEL_0ce7164fc0c74bb9a2b5c7037375a727",
            "value": 818322941
          }
        },
        "eb95db7cae194218b3fcefb439b6352f": {
          "model_module": "@jupyter-widgets/controls",
          "model_module_version": "1.5.0",
          "model_name": "HBoxModel",
          "state": {
            "_dom_classes": [],
            "_model_module": "@jupyter-widgets/controls",
            "_model_module_version": "1.5.0",
            "_model_name": "HBoxModel",
            "_view_count": null,
            "_view_module": "@jupyter-widgets/controls",
            "_view_module_version": "1.5.0",
            "_view_name": "HBoxView",
            "box_style": "",
            "children": [
              "IPY_MODEL_384a001876054c93b0af45cd1e960bfe",
              "IPY_MODEL_dded0aeae74440f7ba2ffa0beb8dd612",
              "IPY_MODEL_5296d28be75740b2892ae421bbec3657"
            ],
            "layout": "IPY_MODEL_769ecde6f2e64bacb596ce972f8d3d2d"
          }
        }
      }
    }
  },
  "nbformat": 4,
  "nbformat_minor": 0
}
